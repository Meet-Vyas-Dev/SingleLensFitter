{
 "cells": [
  {
   "cell_type": "code",
   "execution_count": 4,
   "metadata": {},
   "outputs": [
    {
     "name": "stdout",
     "output_type": "stream",
     "text": [
      "Using MyObservatory as reference.\n",
      "Initial parameters: [ 1.500e-01  7.505e+03  2.500e+01 -2.500e+00  5.000e-01  1.000e+00\n",
      " -2.000e+00]\n",
      "ln Prob =  -949289.30083218\n",
      "Optimising...\n",
      "Optimized parameters: [ 1.01753229e-01  7.49999909e+03  2.95787420e+01 -2.70329055e+00\n",
      "  4.43973291e-01  1.40270252e+00 -1.92907410e+00]\n",
      "ln Prob =  -2195.171647688355\n",
      "7 7 100\n",
      "Running burn-in...\n",
      "ndim, walkers, nsteps, max_iterations: 7 100 50 200\n",
      "iteration 1 completed\n"
     ]
    },
    {
     "name": "stderr",
     "output_type": "stream",
     "text": [
      "d:\\SingleLensFitter\\SingleLensFitter.py:574: RuntimeWarning: invalid value encountered in sqrt\n",
      "  delta_theta = np.pi/(2.0*n)\n",
      "d:\\SingleLensFitter\\SingleLensFitter.py:575: RuntimeWarning: invalid value encountered in sqrt\n",
      "  u1 = uq*np.cos(theta_1d) - np.sqrt(rho**2 - uq**2 * np.sin(theta_1d)**2) + epsilon\n",
      "d:\\SingleLensFitter\\SingleLensFitter.py:591: RuntimeWarning: invalid value encountered in sqrt\n",
      "  integrand = ((r**2+2.0)/np.sqrt(r**2+4.0)) * \\\n",
      "d:\\SingleLensFitter\\SingleLensFitter.py:577: RuntimeWarning: invalid value encountered in arcsin\n",
      "  \n",
      "d:\\SingleLensFitter\\SingleLensFitter.py:578: RuntimeWarning: invalid value encountered in arcsin\n",
      "  u1[theta_1d>np.arcsin(rho/uq)] = 0.0\n"
     ]
    },
    {
     "name": "stdout",
     "output_type": "stream",
     "text": [
      "iteration 2 completed\n",
      "emcee: Exception while calling your likelihood function:\n",
      "  params: [ 1.01622593e-01  7.49999790e+03  2.95667922e+01 -3.12981488e+00\n",
      "  6.83435926e-02  1.36421888e+00 -1.79587887e+00]\n",
      "  args: []\n",
      "  kwargs: {}\n",
      "  exception:\n"
     ]
    },
    {
     "name": "stderr",
     "output_type": "stream",
     "text": [
      "Traceback (most recent call last):\n",
      "  File \"c:\\Python312\\Lib\\site-packages\\emcee\\ensemble.py\", line 624, in __call__\n",
      "    return self.f(x, *self.args, **self.kwargs)\n",
      "           ^^^^^^^^^^^^^^^^^^^^^^^^^^^^^^^^^^^^\n",
      "  File \"d:\\SingleLensFitter\\SingleLensFitter.py\", line 380, in lnprob\n",
      "    lp += self.lnlikelihood()\n",
      "          ^^^^^^^^^^^^^^^^^^^\n",
      "  File \"d:\\SingleLensFitter\\SingleLensFitter.py\", line 414, in lnlikelihood\n",
      "    result, lp = self.linear_fit(data_set_name,mag)\n",
      "                 ^^^^^^^^^^^^^^^^^^^^^^^^^^^^^^^^^^\n",
      "  File \"d:\\SingleLensFitter\\SingleLensFitter.py\", line 434, in linear_fit\n",
      "    C_inv = linalg.inv(C)\n",
      "            ^^^^^^^^^^^^^\n",
      "  File \"c:\\Python312\\Lib\\site-packages\\scipy\\linalg\\_basic.py\", line 959, in inv\n",
      "    lu, piv, info = getrf(a1, overwrite_a=overwrite_a)\n",
      "                    ^^^^^^^^^^^^^^^^^^^^^^^^^^^^^^^^^^\n",
      "KeyboardInterrupt\n"
     ]
    },
    {
     "ename": "KeyboardInterrupt",
     "evalue": "",
     "output_type": "error",
     "traceback": [
      "\u001b[1;31m---------------------------------------------------------------------------\u001b[0m",
      "\u001b[1;31mKeyboardInterrupt\u001b[0m                         Traceback (most recent call last)",
      "Cell \u001b[1;32mIn[4], line 41\u001b[0m\n\u001b[0;32m     37\u001b[0m fitter\u001b[38;5;241m.\u001b[39mnsteps_production \u001b[38;5;241m=\u001b[39m \u001b[38;5;241m1000\u001b[39m \u001b[38;5;66;03m# Reduced for a quick example\u001b[39;00m\n\u001b[0;32m     39\u001b[0m \u001b[38;5;66;03m# 6. Run the MCMC sampler\u001b[39;00m\n\u001b[0;32m     40\u001b[0m \u001b[38;5;66;03m# optimize_first=True is recommended to start walkers near the peak likelihood\u001b[39;00m\n\u001b[1;32m---> 41\u001b[0m \u001b[43mfitter\u001b[49m\u001b[38;5;241;43m.\u001b[39;49m\u001b[43msample\u001b[49m\u001b[43m(\u001b[49m\u001b[43moptimize_first\u001b[49m\u001b[38;5;241;43m=\u001b[39;49m\u001b[38;5;28;43;01mTrue\u001b[39;49;00m\u001b[43m)\u001b[49m\n\u001b[0;32m     43\u001b[0m \u001b[38;5;66;03m# 7. The results are now stored in fitter.p and fitter.samples,\u001b[39;00m\n\u001b[0;32m     44\u001b[0m \u001b[38;5;66;03m#    and plots have been saved to disk.\u001b[39;00m\n\u001b[0;32m     45\u001b[0m \u001b[38;5;28mprint\u001b[39m(\u001b[38;5;124m\"\u001b[39m\u001b[38;5;124mFit results:\u001b[39m\u001b[38;5;124m\"\u001b[39m)\n",
      "File \u001b[1;32md:\\SingleLensFitter\\SingleLensFitter.py:785\u001b[0m, in \u001b[0;36mSingleLensFitter.sample\u001b[1;34m(self, optimize_first)\u001b[0m\n\u001b[0;32m    781\u001b[0m \u001b[38;5;28mprint\u001b[39m(\u001b[38;5;124m'\u001b[39m\u001b[38;5;124mndim, walkers, nsteps, max_iterations:\u001b[39m\u001b[38;5;124m'\u001b[39m, ndim, \u001b[38;5;28mself\u001b[39m\u001b[38;5;241m.\u001b[39mnwalkers, \u001b[38;5;28mself\u001b[39m\u001b[38;5;241m.\u001b[39mnsteps, \u001b[38;5;28mself\u001b[39m\u001b[38;5;241m.\u001b[39mmax_burnin_iterations)\n\u001b[0;32m    783\u001b[0m \u001b[38;5;28;01mwhile\u001b[39;00m \u001b[38;5;129;01mnot\u001b[39;00m converged \u001b[38;5;129;01mand\u001b[39;00m iteration \u001b[38;5;241m<\u001b[39m \u001b[38;5;28mself\u001b[39m\u001b[38;5;241m.\u001b[39mmax_burnin_iterations:\n\u001b[1;32m--> 785\u001b[0m \t\u001b[38;5;28mself\u001b[39m\u001b[38;5;241m.\u001b[39mstate, lnp , _ \u001b[38;5;241m=\u001b[39m \u001b[43msampler\u001b[49m\u001b[38;5;241;43m.\u001b[39;49m\u001b[43mrun_mcmc\u001b[49m\u001b[43m(\u001b[49m\u001b[38;5;28;43mself\u001b[39;49m\u001b[38;5;241;43m.\u001b[39;49m\u001b[43mstate\u001b[49m\u001b[43m,\u001b[49m\u001b[43m \u001b[49m\u001b[38;5;28;43mself\u001b[39;49m\u001b[38;5;241;43m.\u001b[39;49m\u001b[43mnsteps\u001b[49m\u001b[43m)\u001b[49m\n\u001b[0;32m    787\u001b[0m \titeration \u001b[38;5;241m+\u001b[39m\u001b[38;5;241m=\u001b[39m \u001b[38;5;241m1\u001b[39m\n\u001b[0;32m    788\u001b[0m \t\u001b[38;5;28mprint\u001b[39m(\u001b[38;5;124m'\u001b[39m\u001b[38;5;124miteration\u001b[39m\u001b[38;5;124m'\u001b[39m, iteration, \u001b[38;5;124m'\u001b[39m\u001b[38;5;124mcompleted\u001b[39m\u001b[38;5;124m'\u001b[39m)\n",
      "File \u001b[1;32mc:\\Python312\\Lib\\site-packages\\emcee\\ensemble.py:443\u001b[0m, in \u001b[0;36mEnsembleSampler.run_mcmc\u001b[1;34m(self, initial_state, nsteps, **kwargs)\u001b[0m\n\u001b[0;32m    440\u001b[0m     initial_state \u001b[38;5;241m=\u001b[39m \u001b[38;5;28mself\u001b[39m\u001b[38;5;241m.\u001b[39m_previous_state\n\u001b[0;32m    442\u001b[0m results \u001b[38;5;241m=\u001b[39m \u001b[38;5;28;01mNone\u001b[39;00m\n\u001b[1;32m--> 443\u001b[0m \u001b[43m\u001b[49m\u001b[38;5;28;43;01mfor\u001b[39;49;00m\u001b[43m \u001b[49m\u001b[43mresults\u001b[49m\u001b[43m \u001b[49m\u001b[38;5;129;43;01min\u001b[39;49;00m\u001b[43m \u001b[49m\u001b[38;5;28;43mself\u001b[39;49m\u001b[38;5;241;43m.\u001b[39;49m\u001b[43msample\u001b[49m\u001b[43m(\u001b[49m\u001b[43minitial_state\u001b[49m\u001b[43m,\u001b[49m\u001b[43m \u001b[49m\u001b[43miterations\u001b[49m\u001b[38;5;241;43m=\u001b[39;49m\u001b[43mnsteps\u001b[49m\u001b[43m,\u001b[49m\u001b[43m \u001b[49m\u001b[38;5;241;43m*\u001b[39;49m\u001b[38;5;241;43m*\u001b[39;49m\u001b[43mkwargs\u001b[49m\u001b[43m)\u001b[49m\u001b[43m:\u001b[49m\n\u001b[0;32m    444\u001b[0m \u001b[43m    \u001b[49m\u001b[38;5;28;43;01mpass\u001b[39;49;00m\n\u001b[0;32m    446\u001b[0m \u001b[38;5;66;03m# Store so that the ``initial_state=None`` case will work\u001b[39;00m\n",
      "File \u001b[1;32mc:\\Python312\\Lib\\site-packages\\emcee\\ensemble.py:402\u001b[0m, in \u001b[0;36mEnsembleSampler.sample\u001b[1;34m(self, initial_state, log_prob0, rstate0, blobs0, iterations, tune, skip_initial_state_check, thin_by, thin, store, progress, progress_kwargs)\u001b[0m\n\u001b[0;32m    399\u001b[0m move \u001b[38;5;241m=\u001b[39m \u001b[38;5;28mself\u001b[39m\u001b[38;5;241m.\u001b[39m_random\u001b[38;5;241m.\u001b[39mchoice(\u001b[38;5;28mself\u001b[39m\u001b[38;5;241m.\u001b[39m_moves, p\u001b[38;5;241m=\u001b[39m\u001b[38;5;28mself\u001b[39m\u001b[38;5;241m.\u001b[39m_weights)\n\u001b[0;32m    401\u001b[0m \u001b[38;5;66;03m# Propose\u001b[39;00m\n\u001b[1;32m--> 402\u001b[0m state, accepted \u001b[38;5;241m=\u001b[39m \u001b[43mmove\u001b[49m\u001b[38;5;241;43m.\u001b[39;49m\u001b[43mpropose\u001b[49m\u001b[43m(\u001b[49m\u001b[43mmodel\u001b[49m\u001b[43m,\u001b[49m\u001b[43m \u001b[49m\u001b[43mstate\u001b[49m\u001b[43m)\u001b[49m\n\u001b[0;32m    403\u001b[0m state\u001b[38;5;241m.\u001b[39mrandom_state \u001b[38;5;241m=\u001b[39m \u001b[38;5;28mself\u001b[39m\u001b[38;5;241m.\u001b[39mrandom_state\n\u001b[0;32m    405\u001b[0m \u001b[38;5;28;01mif\u001b[39;00m tune:\n",
      "File \u001b[1;32mc:\\Python312\\Lib\\site-packages\\emcee\\moves\\red_blue.py:93\u001b[0m, in \u001b[0;36mRedBlueMove.propose\u001b[1;34m(self, model, state)\u001b[0m\n\u001b[0;32m     90\u001b[0m q, factors \u001b[38;5;241m=\u001b[39m \u001b[38;5;28mself\u001b[39m\u001b[38;5;241m.\u001b[39mget_proposal(s, c, model\u001b[38;5;241m.\u001b[39mrandom)\n\u001b[0;32m     92\u001b[0m \u001b[38;5;66;03m# Compute the lnprobs of the proposed position.\u001b[39;00m\n\u001b[1;32m---> 93\u001b[0m new_log_probs, new_blobs \u001b[38;5;241m=\u001b[39m \u001b[43mmodel\u001b[49m\u001b[38;5;241;43m.\u001b[39;49m\u001b[43mcompute_log_prob_fn\u001b[49m\u001b[43m(\u001b[49m\u001b[43mq\u001b[49m\u001b[43m)\u001b[49m\n\u001b[0;32m     95\u001b[0m \u001b[38;5;66;03m# Loop over the walkers and update them accordingly.\u001b[39;00m\n\u001b[0;32m     96\u001b[0m \u001b[38;5;28;01mfor\u001b[39;00m i, (j, f, nlp) \u001b[38;5;129;01min\u001b[39;00m \u001b[38;5;28menumerate\u001b[39m(\n\u001b[0;32m     97\u001b[0m     \u001b[38;5;28mzip\u001b[39m(all_inds[S1], factors, new_log_probs)\n\u001b[0;32m     98\u001b[0m ):\n",
      "File \u001b[1;32mc:\\Python312\\Lib\\site-packages\\emcee\\ensemble.py:489\u001b[0m, in \u001b[0;36mEnsembleSampler.compute_log_prob\u001b[1;34m(self, coords)\u001b[0m\n\u001b[0;32m    487\u001b[0m     \u001b[38;5;28;01melse\u001b[39;00m:\n\u001b[0;32m    488\u001b[0m         map_func \u001b[38;5;241m=\u001b[39m \u001b[38;5;28mmap\u001b[39m\n\u001b[1;32m--> 489\u001b[0m     results \u001b[38;5;241m=\u001b[39m \u001b[38;5;28;43mlist\u001b[39;49m\u001b[43m(\u001b[49m\u001b[43mmap_func\u001b[49m\u001b[43m(\u001b[49m\u001b[38;5;28;43mself\u001b[39;49m\u001b[38;5;241;43m.\u001b[39;49m\u001b[43mlog_prob_fn\u001b[49m\u001b[43m,\u001b[49m\u001b[43m \u001b[49m\u001b[43mp\u001b[49m\u001b[43m)\u001b[49m\u001b[43m)\u001b[49m\n\u001b[0;32m    491\u001b[0m \u001b[38;5;28;01mtry\u001b[39;00m:\n\u001b[0;32m    492\u001b[0m     log_prob \u001b[38;5;241m=\u001b[39m np\u001b[38;5;241m.\u001b[39marray([\u001b[38;5;28mfloat\u001b[39m(l[\u001b[38;5;241m0\u001b[39m]) \u001b[38;5;28;01mfor\u001b[39;00m l \u001b[38;5;129;01min\u001b[39;00m results])\n",
      "File \u001b[1;32mc:\\Python312\\Lib\\site-packages\\emcee\\ensemble.py:624\u001b[0m, in \u001b[0;36m_FunctionWrapper.__call__\u001b[1;34m(self, x)\u001b[0m\n\u001b[0;32m    622\u001b[0m \u001b[38;5;28;01mdef\u001b[39;00m \u001b[38;5;21m__call__\u001b[39m(\u001b[38;5;28mself\u001b[39m, x):\n\u001b[0;32m    623\u001b[0m     \u001b[38;5;28;01mtry\u001b[39;00m:\n\u001b[1;32m--> 624\u001b[0m         \u001b[38;5;28;01mreturn\u001b[39;00m \u001b[38;5;28;43mself\u001b[39;49m\u001b[38;5;241;43m.\u001b[39;49m\u001b[43mf\u001b[49m\u001b[43m(\u001b[49m\u001b[43mx\u001b[49m\u001b[43m,\u001b[49m\u001b[43m \u001b[49m\u001b[38;5;241;43m*\u001b[39;49m\u001b[38;5;28;43mself\u001b[39;49m\u001b[38;5;241;43m.\u001b[39;49m\u001b[43margs\u001b[49m\u001b[43m,\u001b[49m\u001b[43m \u001b[49m\u001b[38;5;241;43m*\u001b[39;49m\u001b[38;5;241;43m*\u001b[39;49m\u001b[38;5;28;43mself\u001b[39;49m\u001b[38;5;241;43m.\u001b[39;49m\u001b[43mkwargs\u001b[49m\u001b[43m)\u001b[49m\n\u001b[0;32m    625\u001b[0m     \u001b[38;5;28;01mexcept\u001b[39;00m:  \u001b[38;5;66;03m# pragma: no cover\u001b[39;00m\n\u001b[0;32m    626\u001b[0m         \u001b[38;5;28;01mimport\u001b[39;00m \u001b[38;5;21;01mtraceback\u001b[39;00m\n",
      "File \u001b[1;32md:\\SingleLensFitter\\SingleLensFitter.py:380\u001b[0m, in \u001b[0;36mSingleLensFitter.lnprob\u001b[1;34m(self, p)\u001b[0m\n\u001b[0;32m    377\u001b[0m \t\t\tpi \u001b[38;5;241m+\u001b[39m\u001b[38;5;241m=\u001b[39m \u001b[38;5;241m2\u001b[39m\n\u001b[0;32m    379\u001b[0m \u001b[38;5;28;01mif\u001b[39;00m np\u001b[38;5;241m.\u001b[39misfinite(lp):\n\u001b[1;32m--> 380\u001b[0m \tlp \u001b[38;5;241m+\u001b[39m\u001b[38;5;241m=\u001b[39m \u001b[38;5;28;43mself\u001b[39;49m\u001b[38;5;241;43m.\u001b[39;49m\u001b[43mlnlikelihood\u001b[49m\u001b[43m(\u001b[49m\u001b[43m)\u001b[49m\n\u001b[0;32m    381\u001b[0m \u001b[38;5;28;01melse\u001b[39;00m:\n\u001b[0;32m    382\u001b[0m \t\u001b[38;5;28;01mreturn\u001b[39;00m \u001b[38;5;241m-\u001b[39mnp\u001b[38;5;241m.\u001b[39minf\n",
      "File \u001b[1;32md:\\SingleLensFitter\\SingleLensFitter.py:414\u001b[0m, in \u001b[0;36mSingleLensFitter.lnlikelihood\u001b[1;34m(self)\u001b[0m\n\u001b[0;32m    412\u001b[0m gp\u001b[38;5;241m.\u001b[39mcompute(t, yerr)\n\u001b[0;32m    413\u001b[0m \u001b[38;5;28mself\u001b[39m\u001b[38;5;241m.\u001b[39mcov[data_set_name] \u001b[38;5;241m=\u001b[39m gp\u001b[38;5;241m.\u001b[39mget_matrix(t)\n\u001b[1;32m--> 414\u001b[0m result, lp \u001b[38;5;241m=\u001b[39m \u001b[38;5;28;43mself\u001b[39;49m\u001b[38;5;241;43m.\u001b[39;49m\u001b[43mlinear_fit\u001b[49m\u001b[43m(\u001b[49m\u001b[43mdata_set_name\u001b[49m\u001b[43m,\u001b[49m\u001b[43mmag\u001b[49m\u001b[43m)\u001b[49m\n\u001b[0;32m    415\u001b[0m model \u001b[38;5;241m=\u001b[39m \u001b[38;5;28mself\u001b[39m\u001b[38;5;241m.\u001b[39mcompute_lightcurve(data_set_name,t)\n\u001b[0;32m    416\u001b[0m lnprob \u001b[38;5;241m=\u001b[39m gp\u001b[38;5;241m.\u001b[39mlnlikelihood(y\u001b[38;5;241m-\u001b[39mmodel)\n",
      "File \u001b[1;32md:\\SingleLensFitter\\SingleLensFitter.py:434\u001b[0m, in \u001b[0;36mSingleLensFitter.linear_fit\u001b[1;34m(self, data_key, mag)\u001b[0m\n\u001b[0;32m    431\u001b[0m \u001b[38;5;28;01melse\u001b[39;00m:\n\u001b[0;32m    432\u001b[0m \tC \u001b[38;5;241m=\u001b[39m np\u001b[38;5;241m.\u001b[39mdiag(yerr\u001b[38;5;241m*\u001b[39m\u001b[38;5;241m*\u001b[39m\u001b[38;5;241m2\u001b[39m)\n\u001b[1;32m--> 434\u001b[0m C_inv \u001b[38;5;241m=\u001b[39m \u001b[43mlinalg\u001b[49m\u001b[38;5;241;43m.\u001b[39;49m\u001b[43minv\u001b[49m\u001b[43m(\u001b[49m\u001b[43mC\u001b[49m\u001b[43m)\u001b[49m\n\u001b[0;32m    436\u001b[0m \u001b[38;5;28;01mif\u001b[39;00m \u001b[38;5;28mself\u001b[39m\u001b[38;5;241m.\u001b[39mfit_blended:\n\u001b[0;32m    438\u001b[0m \t\u001b[38;5;28;01mif\u001b[39;00m \u001b[38;5;28mself\u001b[39m\u001b[38;5;241m.\u001b[39muse_source_variability:\n",
      "File \u001b[1;32mc:\\Python312\\Lib\\site-packages\\scipy\\linalg\\_basic.py:959\u001b[0m, in \u001b[0;36minv\u001b[1;34m(a, overwrite_a, check_finite)\u001b[0m\n\u001b[0;32m    947\u001b[0m     \u001b[38;5;66;03m# XXX: I found no advantage or disadvantage of using finv.\u001b[39;00m\n\u001b[0;32m    948\u001b[0m \u001b[38;5;66;03m#     finv, = get_flinalg_funcs(('inv',),(a1,))\u001b[39;00m\n\u001b[0;32m    949\u001b[0m \u001b[38;5;66;03m#     if finv is not None:\u001b[39;00m\n\u001b[1;32m   (...)\u001b[0m\n\u001b[0;32m    954\u001b[0m \u001b[38;5;66;03m#         if info<0: raise ValueError('illegal value in %d-th argument of '\u001b[39;00m\n\u001b[0;32m    955\u001b[0m \u001b[38;5;66;03m#                                     'internal inv.getrf|getri'%(-info))\u001b[39;00m\n\u001b[0;32m    956\u001b[0m     getrf, getri, getri_lwork \u001b[38;5;241m=\u001b[39m get_lapack_funcs((\u001b[38;5;124m'\u001b[39m\u001b[38;5;124mgetrf\u001b[39m\u001b[38;5;124m'\u001b[39m, \u001b[38;5;124m'\u001b[39m\u001b[38;5;124mgetri\u001b[39m\u001b[38;5;124m'\u001b[39m,\n\u001b[0;32m    957\u001b[0m                                                   \u001b[38;5;124m'\u001b[39m\u001b[38;5;124mgetri_lwork\u001b[39m\u001b[38;5;124m'\u001b[39m),\n\u001b[0;32m    958\u001b[0m                                                  (a1,))\n\u001b[1;32m--> 959\u001b[0m     lu, piv, info \u001b[38;5;241m=\u001b[39m \u001b[43mgetrf\u001b[49m\u001b[43m(\u001b[49m\u001b[43ma1\u001b[49m\u001b[43m,\u001b[49m\u001b[43m \u001b[49m\u001b[43moverwrite_a\u001b[49m\u001b[38;5;241;43m=\u001b[39;49m\u001b[43moverwrite_a\u001b[49m\u001b[43m)\u001b[49m\n\u001b[0;32m    960\u001b[0m     \u001b[38;5;28;01mif\u001b[39;00m info \u001b[38;5;241m==\u001b[39m \u001b[38;5;241m0\u001b[39m:\n\u001b[0;32m    961\u001b[0m         lwork \u001b[38;5;241m=\u001b[39m _compute_lwork(getri_lwork, a1\u001b[38;5;241m.\u001b[39mshape[\u001b[38;5;241m0\u001b[39m])\n",
      "\u001b[1;31mKeyboardInterrupt\u001b[0m: "
     ]
    }
   ],
   "source": [
    "import numpy as np\n",
    "import matplotlib.pyplot as plt\n",
    "# Assuming the class is in a file named 'SingleLensFitter.py'\n",
    "from SingleLensFitter import SingleLensFitter\n",
    "\n",
    "# 1. Load your data\n",
    "# Create some dummy data for this example\n",
    "# In a real case, you would load your data from a file\n",
    "t0_true, u0_true, tE_true = 7500.0, 0.1, 30.0\n",
    "true_params = [u0_true, t0_true, tE_true]\n",
    "time = np.linspace(t0_true - 2 * tE_true, t0_true + 2 * tE_true, 500)\n",
    "tau = (time - t0_true) / tE_true\n",
    "u = np.sqrt(u0_true**2 + tau**2)\n",
    "magnification = (u**2 + 2) / (u * np.sqrt(u**2 + 4))\n",
    "flux = 1000 * magnification + 500  # F_source = 1000, F_blend = 500\n",
    "flux_err = np.random.normal(0, 20, len(time))  # Add some noise\n",
    "flux += flux_err\n",
    "err = np.ones_like(flux) * 20.0\n",
    "\n",
    "data_dict = {'MyObservatory': (time, flux, err)}\n",
    "\n",
    "# 2. Set initial parameter guesses: [u0, t0, tE]\n",
    "initial_params = np.array([0.15, 7505.0, 25.0])\n",
    "\n",
    "# 3. Initialize the fitter\n",
    "fitter = SingleLensFitter(data=data_dict, initial_parameters=initial_params)\n",
    "\n",
    "# 4. (Optional) Customize the model\n",
    "# Add finite source and limb darkening effects\n",
    "fitter.add_limb_darkening(gamma=0.5, lrho=-2.5)\n",
    "# Add a Gaussian Process model for correlated noise\n",
    "fitter.add_gaussian_process_model()\n",
    "\n",
    "# 5. Customize fitter settings\n",
    "fitter.plotprefix = 'ob12345_fit'\n",
    "fitter.nwalkers = 100\n",
    "fitter.nsteps_production = 1000 # Reduced for a quick example\n",
    "\n",
    "# 6. Run the MCMC sampler\n",
    "# optimize_first=True is recommended to start walkers near the peak likelihood\n",
    "fitter.sample(optimize_first=True)\n",
    "\n",
    "# 7. The results are now stored in fitter.p and fitter.samples,\n",
    "#    and plots have been saved to disk.\n",
    "print(\"Fit results:\")\n",
    "print(f\"Best-fit parameters (50th percentile): {fitter.p}\")\n",
    "\n",
    "# 8. Display one of the output plots\n",
    "plt.figure()\n",
    "img = plt.imread('ob12345_fit-combined-lightcurve.png')\n",
    "plt.imshow(img)\n",
    "plt.axis('off')\n",
    "plt.show()"
   ]
  },
  {
   "cell_type": "code",
   "execution_count": null,
   "id": "386e0e58",
   "metadata": {},
   "outputs": [],
   "source": []
  }
 ],
 "metadata": {
  "kernelspec": {
   "display_name": "Python 3",
   "language": "python",
   "name": "python3"
  },
  "language_info": {
   "codemirror_mode": {
    "name": "ipython",
    "version": 3
   },
   "file_extension": ".py",
   "mimetype": "text/x-python",
   "name": "python",
   "nbconvert_exporter": "python",
   "pygments_lexer": "ipython3",
   "version": "3.12.2"
  }
 },
 "nbformat": 4,
 "nbformat_minor": 5
}
